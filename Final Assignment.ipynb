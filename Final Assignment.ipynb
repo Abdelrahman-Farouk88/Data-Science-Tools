{
 "cells": [
  {
   "cell_type": "markdown",
   "id": "c442a1a8-b271-4b21-a0f0-f259be4ecc5b",
   "metadata": {},
   "source": [
    "# Data Science Tools Notebook\r\n"
   ]
  },
  {
   "cell_type": "markdown",
   "id": "df46b974-9968-410c-972c-bb02a9596478",
   "metadata": {},
   "source": [
    "## Introduction\r\n",
    "This notebook provides an overview of tools, languages, and libraries used in data science. Additionally, it demonstrates simple examples of arithmetic operations and code execution.\r\n"
   ]
  },
  {
   "cell_type": "markdown",
   "id": "8922ce50-302a-44c4-b95b-6f04107248c2",
   "metadata": {},
   "source": [
    "## Data Science Languages\n",
    "- Python\n",
    "- R\n",
    "- SQL\n",
    "- Julia\n",
    "- Scala\n"
   ]
  },
  {
   "cell_type": "markdown",
   "id": "22c82f7e-6199-4526-bee2-b8f828d19458",
   "metadata": {},
   "source": [
    "## Data Science Libraries\n",
    "- Pandas\n",
    "- NumPy\n",
    "- Matplotlib\n",
    "- Scikit-learn\n",
    "- TensorFlow\n",
    "- PyTorch\n"
   ]
  },
  {
   "cell_type": "markdown",
   "id": "3c6fbd9b-7e01-4c5f-b860-9361957bf931",
   "metadata": {},
   "source": [
    "## Data Science Tools\r\n",
    "| Tool              | Purpose                             |\r\n",
    "|-------------------|-------------------------------------|\r\n",
    "| Jupyter Notebook  | Interactive computing environment   |\r\n",
    "| RStudio           | Data analysis using R               |\r\n",
    "| Apache Spark      | Big data processing framework       |\r\n",
    "| Tableau           | Data visualization                  |\r\n"
   ]
  },
  {
   "cell_type": "markdown",
   "id": "35489b41-7530-408c-b10f-086ada045414",
   "metadata": {},
   "source": [
    "## Arithmetic Expressions Examples\n",
    "Arithmetic expressions are used to perform operations like addition, subtraction, multiplication, and division. Below are some examples.\n"
   ]
  },
  {
   "cell_type": "code",
   "execution_count": 4,
   "id": "05864966-60e8-4b42-a122-d71735b3280c",
   "metadata": {},
   "outputs": [
    {
     "data": {
      "text/plain": [
       "38"
      ]
     },
     "execution_count": 4,
     "metadata": {},
     "output_type": "execute_result"
    }
   ],
   "source": [
    "# Multiply and add numbers\r\n",
    "result = (5 * 7) + 3\r\n",
    "result\r\n"
   ]
  },
  {
   "cell_type": "code",
   "execution_count": 5,
   "id": "6e5df7ff-fb48-43b9-bfb6-34f567d3d74a",
   "metadata": {},
   "outputs": [
    {
     "data": {
      "text/plain": [
       "2.0"
      ]
     },
     "execution_count": 5,
     "metadata": {},
     "output_type": "execute_result"
    }
   ],
   "source": [
    "# Convert minutes to hours\n",
    "minutes = 120\n",
    "hours = minutes / 60\n",
    "hours\n"
   ]
  },
  {
   "cell_type": "markdown",
   "id": "78f21db3-3235-4c85-aa32-aa577603b665",
   "metadata": {},
   "source": [
    "## Objectives\r\n",
    "- Learn about data science tools and languages.\r\n",
    "- Understand how to use data science libraries.\r\n",
    "- Explore basic arithmetic operations in Python.\r\n"
   ]
  },
  {
   "cell_type": "markdown",
   "id": "f69d472a-f6ff-46aa-8a97-47373e09ec07",
   "metadata": {},
   "source": [
    "## Author\n",
    "Abdelrahman Farouk"
   ]
  },
  {
   "cell_type": "code",
   "execution_count": null,
   "id": "07e2cc03-fa22-4513-a00f-ddad3af807cd",
   "metadata": {},
   "outputs": [],
   "source": []
  }
 ],
 "metadata": {
  "kernelspec": {
   "display_name": "Python 3 (ipykernel)",
   "language": "python",
   "name": "python3"
  },
  "language_info": {
   "codemirror_mode": {
    "name": "ipython",
    "version": 3
   },
   "file_extension": ".py",
   "mimetype": "text/x-python",
   "name": "python",
   "nbconvert_exporter": "python",
   "pygments_lexer": "ipython3",
   "version": "3.9.18"
  },
  "panel-cell-order": [
   "4b20a5e7-5b76-499d-bf51-0254b670df5a"
  ]
 },
 "nbformat": 4,
 "nbformat_minor": 5
}
